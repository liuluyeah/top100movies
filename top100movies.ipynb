{
 "cells": [
  {
   "cell_type": "code",
   "execution_count": null,
   "metadata": {
    "collapsed": false
   },
   "outputs": [],
   "source": [
    "import requests\n",
    "from multiprocessing import Pool\n",
    "from requests.exceptions import RequestException\n",
    "import re\n",
    "import json\n",
    "def getOnePage(url):\n",
    "    try:\n",
    "        response=requests.get(url)\n",
    "        if response.status_code==200:\n",
    "            return response.text\n",
    "        return None\n",
    "    except RequestException:\n",
    "        return None\n",
    "\n",
    "def parseOnePage(html):\n",
    "    pattern=re.compile('<dd>.*?board-index.*?>(\\d+)</i>.*?data-src=\"(.*?)\".*?name\"><a.*?>(.*?)</a>'\n",
    "                       +'.*?star\">(.*?)</p>.*?integer\">(.*?)</i>.*?fraction\">(.*?)</i>.*?</dd>',re.S)\n",
    "    items=re.findall(pattern,html)\n",
    "    for item in items:\n",
    "        yield{\n",
    "            'index':item[0],\n",
    "            'image':item[1],\n",
    "            'title':item[2],\n",
    "            'actor':item[3].strip()[3:],\n",
    "            'score':item[4]+item[5]\n",
    "        }\n",
    "def writeToFile(content):\n",
    "    with open('C:/Users/lx/Desktop/result.txt','a',encoding='utf-8') as f:\n",
    "        f.write(json.dumps(content,ensure_ascii=False)+'\\n')\n",
    "        f.close()\n",
    "def main(offset):\n",
    "    url='http://maoyan.com/board/4?offset='+str(offset)\n",
    "    html=getOnePage(url)\n",
    "    for item in parseOnePage(html):\n",
    "        print(item)\n",
    "        writeToFile(item)\n",
    "        \n",
    "if __name__=='__main__':\n",
    "    pool=Pool()\n",
    "    pool.map(main,[i*10 for i in range(10)])"
   ]
  },
  {
   "cell_type": "code",
   "execution_count": null,
   "metadata": {
    "collapsed": true
   },
   "outputs": [],
   "source": []
  }
 ],
 "metadata": {
  "kernelspec": {
   "display_name": "Python 3",
   "language": "python",
   "name": "python3"
  },
  "language_info": {
   "codemirror_mode": {
    "name": "ipython",
    "version": 3
   },
   "file_extension": ".py",
   "mimetype": "text/x-python",
   "name": "python",
   "nbconvert_exporter": "python",
   "pygments_lexer": "ipython3",
   "version": "3.6.0"
  }
 },
 "nbformat": 4,
 "nbformat_minor": 2
}
